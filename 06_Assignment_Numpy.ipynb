{
  "nbformat": 4,
  "nbformat_minor": 0,
  "metadata": {
    "colab": {
      "provenance": []
    },
    "kernelspec": {
      "name": "python3",
      "display_name": "Python 3"
    },
    "language_info": {
      "name": "python"
    }
  },
  "cells": [
    {
      "cell_type": "code",
      "execution_count": null,
      "metadata": {
        "id": "pU2_emi_imQ7"
      },
      "outputs": [],
      "source": []
    },
    {
      "cell_type": "markdown",
      "source": [
        "#Question 1. Create a 3x3 NumPy array with random integers between 1 and 100. Then, interchange its rows and columns.\n",
        "\n",
        "#Answer:"
      ],
      "metadata": {
        "id": "Bp4gq0O6pfWX"
      }
    },
    {
      "cell_type": "code",
      "source": [
        "import numpy as np\n",
        "\n",
        "# Generate a 3x3 array with random integers from 1 to 100\n",
        "array = np.random.randint(1, 101, size=(3, 3))\n",
        "print(\"Original array:\")\n",
        "print(array)\n",
        "\n",
        "# Transpose the array to interchange rows and columns\n",
        "transposed_array = array.T\n",
        "print(\"\\nTransposed array:\")\n",
        "print(transposed_array)"
      ],
      "metadata": {
        "colab": {
          "base_uri": "https://localhost:8080/"
        },
        "id": "N3DIfHaQplxU",
        "outputId": "d9644eaf-e3bc-4393-d7b8-139a2e38f5df"
      },
      "execution_count": null,
      "outputs": [
        {
          "output_type": "stream",
          "name": "stdout",
          "text": [
            "Original array:\n",
            "[[38 75 12]\n",
            " [19 72 72]\n",
            " [38 62 18]]\n",
            "\n",
            "Transposed array:\n",
            "[[38 19 38]\n",
            " [75 72 62]\n",
            " [12 72 18]]\n"
          ]
        }
      ]
    },
    {
      "cell_type": "markdown",
      "source": [
        "This code will create a 3x3 array filled with random integers between 1 and 100, and then transpose it to swap the rows and columns.\n",
        "\n"
      ],
      "metadata": {
        "id": "_EjLjeylqp0D"
      }
    },
    {
      "cell_type": "markdown",
      "source": [
        "#Question 2. Generate a 1D NumPy array with 10 elements. Reshape it into a 2x5 array, then into a 5x2 array\n",
        "\n",
        "#Answer:\n",
        "\n",
        "Below code to generate a 1D NumPy array with 10 elements, then reshape it into a 2x5 array and finally into a 5x2 array:"
      ],
      "metadata": {
        "id": "3QfS_YBwqxpm"
      }
    },
    {
      "cell_type": "code",
      "source": [
        "import numpy as np\n",
        "\n",
        "# Create a 1D array with 10 elements\n",
        "array_1d = np.arange(10)\n",
        "\n",
        "# Reshape the 1D array to a 2x5 array\n",
        "array_2x5 = array_1d.reshape(2, 5)\n",
        "\n",
        "# Reshape the 2x5 array to a 5x2 array\n",
        "array_5x2 = array_2x5.reshape(5, 2)\n",
        "\n",
        "print(\"Original 1D array:\")\n",
        "print(array_1d)\n",
        "print(\"\\nReshaped to 2x5 array:\")\n",
        "print(array_2x5)\n",
        "print(\"\\nReshaped to 5x2 array:\")\n",
        "print(array_5x2)"
      ],
      "metadata": {
        "colab": {
          "base_uri": "https://localhost:8080/"
        },
        "id": "-gmITCbaraOm",
        "outputId": "88b7aa38-07ff-40ec-d750-fe5a909b532d"
      },
      "execution_count": null,
      "outputs": [
        {
          "output_type": "stream",
          "name": "stdout",
          "text": [
            "Original 1D array:\n",
            "[0 1 2 3 4 5 6 7 8 9]\n",
            "\n",
            "Reshaped to 2x5 array:\n",
            "[[0 1 2 3 4]\n",
            " [5 6 7 8 9]]\n",
            "\n",
            "Reshaped to 5x2 array:\n",
            "[[0 1]\n",
            " [2 3]\n",
            " [4 5]\n",
            " [6 7]\n",
            " [8 9]]\n"
          ]
        }
      ]
    },
    {
      "cell_type": "markdown",
      "source": [
        "#Question 3. Create a 4x4 NumPy array with random float values. Add a border of zeros around it, resulting in a 6x6 array.\n",
        "\n",
        "#Answer:"
      ],
      "metadata": {
        "id": "vSmYaZfcr42i"
      }
    },
    {
      "cell_type": "code",
      "source": [
        "import numpy as np\n",
        "\n",
        "# Generate a 4x4 array with random float values\n",
        "random_array = np.random.rand(4, 4)\n",
        "\n",
        "# Add a border of zeros to create a 6x6 array\n",
        "bordered_array = np.pad(random_array, pad_width=1, mode='constant', constant_values=0)\n",
        "\n",
        "print(\"Original 4x4 array with random float values:\\n\", random_array)\n",
        "print(\"\\n6x6 array with a border of zeros:\\n\", bordered_array)\n"
      ],
      "metadata": {
        "colab": {
          "base_uri": "https://localhost:8080/"
        },
        "id": "q9JJVw3jr-Sb",
        "outputId": "0426c6fe-6e60-4f1d-aff9-637ca24eac28"
      },
      "execution_count": null,
      "outputs": [
        {
          "output_type": "stream",
          "name": "stdout",
          "text": [
            "Original 4x4 array with random float values:\n",
            " [[0.30955998 0.11251267 0.73119864 0.94217388]\n",
            " [0.685327   0.93397372 0.82576167 0.52653407]\n",
            " [0.47208369 0.39565694 0.72491265 0.32143466]\n",
            " [0.08444018 0.74538661 0.85813405 0.23104169]]\n",
            "\n",
            "6x6 array with a border of zeros:\n",
            " [[0.         0.         0.         0.         0.         0.        ]\n",
            " [0.         0.30955998 0.11251267 0.73119864 0.94217388 0.        ]\n",
            " [0.         0.685327   0.93397372 0.82576167 0.52653407 0.        ]\n",
            " [0.         0.47208369 0.39565694 0.72491265 0.32143466 0.        ]\n",
            " [0.         0.08444018 0.74538661 0.85813405 0.23104169 0.        ]\n",
            " [0.         0.         0.         0.         0.         0.        ]]\n"
          ]
        }
      ]
    },
    {
      "cell_type": "markdown",
      "source": [
        "This code snippet uses np.random.rand to generate the random values and np.pad to add the zero border."
      ],
      "metadata": {
        "id": "YGkhEM1_sKFj"
      }
    },
    {
      "cell_type": "markdown",
      "source": [
        "#Question 4. Using NumPy, create an array of integers from 10 to 60 with a step of 5.\n",
        "\n",
        "#Answer:"
      ],
      "metadata": {
        "id": "HRE6pMibsPsv"
      }
    },
    {
      "cell_type": "code",
      "source": [
        "import numpy as np\n",
        "\n",
        "# Generate an array of integers from 10 to 60 with a step of 5\n",
        "integer_array = np.arange(10, 65, 5)\n",
        "\n",
        "print(\"Array of integers from 10 to 60 with a step of 5:\\n\", integer_array)"
      ],
      "metadata": {
        "colab": {
          "base_uri": "https://localhost:8080/"
        },
        "id": "RvYYrsvCsUc1",
        "outputId": "6998f78c-7498-4c9c-bfeb-b8af0f34b521"
      },
      "execution_count": null,
      "outputs": [
        {
          "output_type": "stream",
          "name": "stdout",
          "text": [
            "Array of integers from 10 to 60 with a step of 5:\n",
            " [10 15 20 25 30 35 40 45 50 55 60]\n"
          ]
        }
      ]
    },
    {
      "cell_type": "markdown",
      "source": [
        "This code snippet uses np.arange to create the array, starting at 10 and ending before 65, with increments of 5."
      ],
      "metadata": {
        "id": "KE2rvHvjsi2N"
      }
    },
    {
      "cell_type": "markdown",
      "source": [
        "#Question 5. Create a NumPy array of strings ['python', 'numpy', 'pandas']. Apply different case transformations (uppercase, lowercase, title case, etc.) to each element.\n",
        "\n",
        "#Answer:"
      ],
      "metadata": {
        "id": "06Mv9qcpsqKO"
      }
    },
    {
      "cell_type": "code",
      "source": [
        "import numpy as np\n",
        "\n",
        "# Initialize a NumPy array containing strings\n",
        "string_array = np.array(['python', 'numpy', 'pandas'])\n",
        "\n",
        "# Perform various case transformations\n",
        "uppercase_strings = np.char.upper(string_array)      # Convert to uppercase\n",
        "lowercase_strings = np.char.lower(string_array)      # Convert to lowercase\n",
        "titlecase_strings = np.char.title(string_array)      # Convert to title case\n",
        "capitalized_strings = np.char.capitalize(string_array) # Capitalize the first letter of each string\n",
        "\n",
        "# Print the results\n",
        "print(\"Original Array: \", string_array)\n",
        "print(\"Uppercase: \", uppercase_strings)\n",
        "print(\"Lowercase: \", lowercase_strings)\n",
        "print(\"Title Case: \", titlecase_strings)\n",
        "print(\"Capitalized: \", capitalized_strings)"
      ],
      "metadata": {
        "colab": {
          "base_uri": "https://localhost:8080/"
        },
        "id": "ZOPoXO7tswEz",
        "outputId": "a9d8f68f-fe41-4703-f7b8-e4cf5916c70f"
      },
      "execution_count": null,
      "outputs": [
        {
          "output_type": "stream",
          "name": "stdout",
          "text": [
            "Original Array:  ['python' 'numpy' 'pandas']\n",
            "Uppercase:  ['PYTHON' 'NUMPY' 'PANDAS']\n",
            "Lowercase:  ['python' 'numpy' 'pandas']\n",
            "Title Case:  ['Python' 'Numpy' 'Pandas']\n",
            "Capitalized:  ['Python' 'Numpy' 'Pandas']\n"
          ]
        }
      ]
    },
    {
      "cell_type": "markdown",
      "source": [
        "Above code demonstrates how to manipulate strings in a NumPy array using different case transformations."
      ],
      "metadata": {
        "id": "u8waA6FrtGxs"
      }
    },
    {
      "cell_type": "markdown",
      "source": [
        "#Question 6. Generate a NumPy array of words. Insert a space between each character of every word in the array.\n",
        "\n",
        "#Answer:"
      ],
      "metadata": {
        "id": "DapsTYNXtNvc"
      }
    },
    {
      "cell_type": "code",
      "source": [
        "import numpy as np\n",
        "\n",
        "# Define a NumPy array with a list of words\n",
        "words_array = np.array(['hello', 'world', 'numpy', 'array', 'example'])\n",
        "\n",
        "# Create a new array with spaces added between each character in the words\n",
        "spaced_words_array = np.array([' '.join(char for char in word) for word in words_array])\n",
        "\n",
        "print(spaced_words_array)\n"
      ],
      "metadata": {
        "colab": {
          "base_uri": "https://localhost:8080/"
        },
        "id": "dLPxG63AtSvl",
        "outputId": "3ba78ed4-d293-4836-b192-97eae0031127"
      },
      "execution_count": null,
      "outputs": [
        {
          "output_type": "stream",
          "name": "stdout",
          "text": [
            "['h e l l o' 'w o r l d' 'n u m p y' 'a r r a y' 'e x a m p l e']\n"
          ]
        }
      ]
    },
    {
      "cell_type": "markdown",
      "source": [
        "This code achieves the same result by using a different structure and wording. When executed, the output will still be:\n",
        "\n",
        "Each word in the array now has spaces between its characters."
      ],
      "metadata": {
        "id": "tZcAmKjmtmXl"
      }
    },
    {
      "cell_type": "markdown",
      "source": [
        "#Question 7. Create two 2D NumPy arrays and perform element-wise addition, subtraction, multiplication, and division.\n",
        "\n",
        "#Answer:"
      ],
      "metadata": {
        "id": "Ld9E_gZctwRF"
      }
    },
    {
      "cell_type": "code",
      "source": [
        "import numpy as np\n",
        "\n",
        "# Define two 2D arrays\n",
        "array1 = np.array([[1, 2, 3], [4, 5, 6]])\n",
        "array2 = np.array([[7, 8, 9], [10, 11, 12]])\n",
        "\n",
        "# Perform element-wise operations\n",
        "addition = np.add(array1, array2)\n",
        "subtraction = np.subtract(array1, array2)\n",
        "multiplication = np.multiply(array1, array2)\n",
        "division = np.divide(array1, array2)\n",
        "\n",
        "# Display the results\n",
        "print(\"Array 1:\\n\", array1)\n",
        "print(\"Array 2:\\n\", array2)\n",
        "print(\"Element-wise Addition:\\n\", addition)\n",
        "print(\"Element-wise Subtraction:\\n\", subtraction)\n",
        "print(\"Element-wise Multiplication:\\n\", multiplication)\n",
        "print(\"Element-wise Division:\\n\", division)\n"
      ],
      "metadata": {
        "colab": {
          "base_uri": "https://localhost:8080/"
        },
        "id": "KbF59e1bt0v2",
        "outputId": "449ef727-0a3e-4705-93e7-11128f2f874d"
      },
      "execution_count": null,
      "outputs": [
        {
          "output_type": "stream",
          "name": "stdout",
          "text": [
            "Array 1:\n",
            " [[1 2 3]\n",
            " [4 5 6]]\n",
            "Array 2:\n",
            " [[ 7  8  9]\n",
            " [10 11 12]]\n",
            "Element-wise Addition:\n",
            " [[ 8 10 12]\n",
            " [14 16 18]]\n",
            "Element-wise Subtraction:\n",
            " [[-6 -6 -6]\n",
            " [-6 -6 -6]]\n",
            "Element-wise Multiplication:\n",
            " [[ 7 16 27]\n",
            " [40 55 72]]\n",
            "Element-wise Division:\n",
            " [[0.14285714 0.25       0.33333333]\n",
            " [0.4        0.45454545 0.5       ]]\n"
          ]
        }
      ]
    },
    {
      "cell_type": "markdown",
      "source": [
        "#Question 8. Use NumPy to create a 5x5 identity matrix, then extract its diagonal elements.\n",
        "\n",
        "#Answer:"
      ],
      "metadata": {
        "id": "5rWlQDUjuDKW"
      }
    },
    {
      "cell_type": "code",
      "source": [
        "import numpy as np\n",
        "\n",
        "# Generate a 5x5 identity matrix\n",
        "identity_matrix = np.eye(5)\n",
        "\n",
        "# Get the diagonal elements\n",
        "diagonal_elements = np.diagonal(identity_matrix)\n",
        "\n",
        "print(\"5x5 Identity Matrix:\\n\", identity_matrix)\n",
        "print(\"Diagonal Elements:\", diagonal_elements)"
      ],
      "metadata": {
        "colab": {
          "base_uri": "https://localhost:8080/"
        },
        "id": "dURxAvpruIml",
        "outputId": "c703a82a-c64f-448b-e325-800e417dcbce"
      },
      "execution_count": null,
      "outputs": [
        {
          "output_type": "stream",
          "name": "stdout",
          "text": [
            "5x5 Identity Matrix:\n",
            " [[1. 0. 0. 0. 0.]\n",
            " [0. 1. 0. 0. 0.]\n",
            " [0. 0. 1. 0. 0.]\n",
            " [0. 0. 0. 1. 0.]\n",
            " [0. 0. 0. 0. 1.]]\n",
            "Diagonal Elements: [1. 1. 1. 1. 1.]\n"
          ]
        }
      ]
    },
    {
      "cell_type": "markdown",
      "source": [
        "#Question 9. Generate a NumPy array of 100 random integers between 0 and 1000. Find and display all prime numbers in this array.\n",
        "\n",
        "#Answer:\n",
        "\n",
        "The below code to generate a NumPy array of 100 random integers between 0 and 1000, and then find and display all the prime numbers in this array:"
      ],
      "metadata": {
        "id": "kA-1FRMcua8O"
      }
    },
    {
      "cell_type": "code",
      "source": [
        "import numpy as np\n",
        "\n",
        "# Create an array of 100 random integers between 0 and 1000\n",
        "random_numbers = np.random.randint(0, 1001, 100)\n",
        "\n",
        "# Function to determine if a number is prime\n",
        "def check_prime(num):\n",
        "    if num <= 1:\n",
        "        return False\n",
        "    for i in range(2, int(np.sqrt(num)) + 1):\n",
        "        if num % i == 0:\n",
        "            return False\n",
        "    return True\n",
        "\n",
        "# Extract prime numbers from the array\n",
        "primes = [number for number in random_numbers if check_prime(number)]\n",
        "\n",
        "print(\"Random numbers:\", random_numbers)\n",
        "print(\"Prime numbers:\", primes)\n"
      ],
      "metadata": {
        "colab": {
          "base_uri": "https://localhost:8080/"
        },
        "id": "h11bSwM6umI7",
        "outputId": "dfa8ab04-1853-4cf2-c3e0-e7089a425e0a"
      },
      "execution_count": null,
      "outputs": [
        {
          "output_type": "stream",
          "name": "stdout",
          "text": [
            "Random numbers: [900 706 813 130 453 638 310 869 630 821 196 106 349 952 950 575  57 351\n",
            " 137 509 815 740 952 110 451 560 303 234 526  26 382 533 900 510  98  11\n",
            " 771  84 741 692  79 309 613 172 128 435 958 583 314 717 550 806 164 676\n",
            "  72 411 233 970 336 351 834 702 373 530 200 415   3 586 659 518 409 759\n",
            " 896 355   3 787 710 482 723 721 393 666 440 371 310 550 265  54 498 917\n",
            " 623 273 323 251 956 948 154 484 688 708]\n",
            "Prime numbers: [821, 349, 137, 509, 11, 79, 613, 233, 373, 3, 659, 409, 3, 787, 251]\n"
          ]
        }
      ]
    },
    {
      "cell_type": "markdown",
      "source": [
        "This code snippet generates an array of random integers and identifies the prime numbers within it."
      ],
      "metadata": {
        "id": "K8yMRI2Uu23O"
      }
    },
    {
      "cell_type": "markdown",
      "source": [
        "#Question 10. Create a NumPy array representing daily temperatures for a month. Calculate and display the weekly averages.\n",
        "\n",
        "#Answer:\n",
        "\n",
        "a NumPy array for daily temperatures over a month and calculate the weekly averages:"
      ],
      "metadata": {
        "id": "jbNlb6XKu-N9"
      }
    },
    {
      "cell_type": "code",
      "source": [
        "import numpy as np\n",
        "\n",
        "# Create an array with daily temperatures for 30 days\n",
        "daily_temperatures = np.random.randint(20, 35, size=30)  # Temperatures between 20°C and 35°C\n",
        "\n",
        "# Compute weekly averages\n",
        "weekly_averages = [np.mean(daily_temperatures[i:i+7]) for i in range(0, 30, 7)]\n",
        "\n",
        "# Print the results\n",
        "print(\"Daily Temperatures for the Month:\", daily_temperatures)\n",
        "print(\"Weekly Averages:\", weekly_averages)"
      ],
      "metadata": {
        "colab": {
          "base_uri": "https://localhost:8080/"
        },
        "id": "vsX2uQsmvKdd",
        "outputId": "93c43e68-4b73-4814-ace2-9d1a69dda8c3"
      },
      "execution_count": null,
      "outputs": [
        {
          "output_type": "stream",
          "name": "stdout",
          "text": [
            "Daily Temperatures for the Month: [31 29 22 22 27 33 22 23 31 32 26 26 31 33 29 34 34 22 33 30 24 33 23 34\n",
            " 33 33 32 32 31 29]\n",
            "Weekly Averages: [26.571428571428573, 28.857142857142858, 29.428571428571427, 31.428571428571427, 30.0]\n"
          ]
        }
      ]
    },
    {
      "cell_type": "markdown",
      "source": [
        "\n",
        "Above code generates random temperatures between 20°C and 35°C for 30 days, calculates the average temperature for each week, and prints both the daily temperatures and the weekly averages."
      ],
      "metadata": {
        "id": "r-X7aD9uvlG2"
      }
    },
    {
      "cell_type": "markdown",
      "source": [],
      "metadata": {
        "id": "S6e7v3IOqrhd"
      }
    },
    {
      "cell_type": "code",
      "source": [],
      "metadata": {
        "id": "AtolJrZ2qXEW"
      },
      "execution_count": null,
      "outputs": []
    }
  ]
}